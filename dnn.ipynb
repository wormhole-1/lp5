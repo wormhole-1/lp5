{
 "cells": [
  {
   "cell_type": "code",
   "execution_count": 25,
   "metadata": {},
   "outputs": [
    {
     "name": "stdout",
     "output_type": "stream",
     "text": [
      "Epoch 1/4\n",
      "391/391 [==============================] - 10s 24ms/step - loss: 0.4140 - accuracy: 0.7906\n",
      "Epoch 2/4\n",
      "391/391 [==============================] - 10s 25ms/step - loss: 0.1438 - accuracy: 0.9488\n",
      "Epoch 3/4\n",
      "391/391 [==============================] - 10s 24ms/step - loss: 0.0291 - accuracy: 0.9931\n",
      "Epoch 4/4\n",
      "391/391 [==============================] - 10s 25ms/step - loss: 0.0044 - accuracy: 0.9996\n",
      "782/782 [==============================] - 3s 3ms/step - loss: 0.5648 - accuracy: 0.8586\n",
      "Accuracy: 85.86%\n"
     ]
    }
   ],
   "source": [
    "# from tensorflow.keras.datasets import imdb\n",
    "# from tensorflow.keras.models import Sequential\n",
    "# from tensorflow.keras.layers import Dense, Embedding, Flatten\n",
    "# from tensorflow.keras.preprocessing import sequence\n",
    "\n",
    "# # Load the dataset\n",
    "# (X_train, y_train), (X_test, y_test) = imdb.load_data(num_words=5000)\n",
    "\n",
    "# # Pad the sequences to the same length\n",
    "# X_train = sequence.pad_sequences(X_train, maxlen=250)  # Reduced sequence length\n",
    "# X_test = sequence.pad_sequences(X_test, maxlen=250)  # Reduced sequence length\n",
    "\n",
    "# # Define the model\n",
    "# model = Sequential([\n",
    "#     Embedding(5000, 32, input_length=250),\n",
    "#     Flatten(),\n",
    "#     Dense(128, activation='relu'),\n",
    "#     Dense(1, activation='sigmoid')\n",
    "# ])\n",
    "\n",
    "# # Compile the model\n",
    "# model.compile(loss='binary_crossentropy', optimizer='adam', metrics=['accuracy'])\n",
    "\n",
    "# # Train the model\n",
    "# model.fit(X_train, y_train, epochs=4, batch_size=64, verbose=1)\n",
    "\n",
    "# # Evaluate the model\n",
    "# loss, accuracy = model.evaluate(X_test, y_test)\n",
    "# print(\"Accuracy: %.2f%%\" % (accuracy*100))"
   ]
  },
  {
   "cell_type": "code",
   "execution_count": 1,
   "metadata": {},
   "outputs": [],
   "source": [
    "from tensorflow.keras.datasets import imdb\n",
    "from tensorflow.keras.models import Sequential\n",
    "from tensorflow.keras.layers import Dense, Embedding, Flatten\n",
    "from tensorflow.keras.preprocessing import sequence"
   ]
  },
  {
   "cell_type": "code",
   "execution_count": 2,
   "metadata": {},
   "outputs": [
    {
     "name": "stdout",
     "output_type": "stream",
     "text": [
      "Downloading data from https://storage.googleapis.com/tensorflow/tf-keras-datasets/imdb.npz\n",
      "17464789/17464789 [==============================] - 5s 0us/step\n"
     ]
    }
   ],
   "source": [
    "#  The default split ratio is approximately 50% for training data and 50% for test data. However, the exact number of samples in each set can vary slightly due to rounding.\n",
    "# Load the dataset\n",
    "(train_data,train_label),(test_data,test_label) = imdb.load_data(num_words=10000)"
   ]
  },
  {
   "cell_type": "markdown",
   "metadata": {},
   "source": [
    "def vectorize_sequences(sequences, dimensions=10000):: Defines a function named vectorize_sequences that takes two parameters:\n",
    "sequences: A list of sequences (lists of integers) representing movie reviews.\n",
    "dimensions: The total number of unique words in the vocabulary. By default, it's set to 10,000.\n",
    "results = np.zeros((len(sequences), dimensions)): Creates a NumPy array of shape (len(sequences), dimensions) filled with zeros. This array will store the vectorized representation of the sequences.\n",
    "for i, sequence in enumerate(sequences):: Iterates over each sequence in the sequences list along with its index i.\n",
    "results[i, sequence] = 1: Sets the elements in the results array corresponding to the indices provided by the sequence to 1. This creates a binary matrix representation of the sequences, where each row represents a sequence and each column represents a word in the vocabulary. If a word appears in the sequence, the corresponding element in the row is set to 1; otherwise, it remains 0."
   ]
  },
  {
   "cell_type": "code",
   "execution_count": 3,
   "metadata": {},
   "outputs": [],
   "source": [
    "import numpy as np\n",
    "\n",
    "def vectorize_sequences(sequences,dimensions=10000):\n",
    "    results = np.zeros((len(sequences),dimensions))\n",
    "    for i,sequence in enumerate(sequences):\n",
    "        results[i,sequence]=1\n",
    "        \n",
    "    return results\n",
    "\n",
    "x_train = vectorize_sequences(train_data)\n",
    "x_test = vectorize_sequences(test_data)"
   ]
  },
  {
   "cell_type": "code",
   "execution_count": 4,
   "metadata": {},
   "outputs": [],
   "source": [
    "y_train = np.asarray(train_label).astype('float32')\n",
    "y_test= np.asarray(test_label).astype('float32')"
   ]
  },
  {
   "cell_type": "code",
   "execution_count": 5,
   "metadata": {},
   "outputs": [],
   "source": [
    "from keras.models import Sequential\n",
    "from keras.layers import Dense"
   ]
  },
  {
   "cell_type": "markdown",
   "metadata": {},
   "source": [
    "Input Layer:\n",
    "model.add(Dense(16, input_shape=(10000,), activation='relu'))\n",
    "This adds a dense layer with 16 units (neurons) and ReLU activation function.\n",
    "The input_shape=(10000,) parameter specifies that the input to this layer has 10,000 features (assuming a vocabulary size of 10,000 for vectorized sequences).\n",
    "\n",
    "Hidden Layers:\n",
    "model.add(Dense(16, activation='relu'))\n",
    "model.add(Dense(8, activation='relu'))\n",
    "model.add(Dense(4, activation='relu'))\n",
    "These lines add three additional dense layers with 16, 8, and 4 units, respectively, each using the ReLU activation function.\n",
    "These layers are commonly referred to as hidden layers as they are not directly connected to the input or output.\n",
    "\n",
    "Output Layer:\n",
    "model.add(Dense(1, activation='sigmoid'))\n",
    "This adds the output layer with a single unit and sigmoid activation function.\n",
    "The sigmoid activation function is suitable for binary classification tasks as it squashes the output values between 0 and 1, representing the probability of the positive class (e.g., sentiment being positive)."
   ]
  },
  {
   "cell_type": "code",
   "execution_count": 6,
   "metadata": {},
   "outputs": [],
   "source": [
    "model = Sequential()\n",
    "\n",
    "model.add(Dense(16,input_shape=(10000,),activation='relu'))\n",
    "model.add(Dense(16,activation = 'relu'))\n",
    "model.add(Dense(8,activation = 'relu'))\n",
    "model.add(Dense(4,activation = 'relu'))\n",
    "model.add(Dense(1,activation = 'sigmoid'))"
   ]
  },
  {
   "cell_type": "code",
   "execution_count": 7,
   "metadata": {},
   "outputs": [],
   "source": [
    "model.compile(optimizer='adam',loss='mse',metrics=['accuracy'])"
   ]
  },
  {
   "cell_type": "code",
   "execution_count": 8,
   "metadata": {},
   "outputs": [
    {
     "name": "stdout",
     "output_type": "stream",
     "text": [
      "Model: \"sequential\"\n",
      "_________________________________________________________________\n",
      " Layer (type)                Output Shape              Param #   \n",
      "=================================================================\n",
      " dense (Dense)               (None, 16)                160016    \n",
      "                                                                 \n",
      " dense_1 (Dense)             (None, 16)                272       \n",
      "                                                                 \n",
      " dense_2 (Dense)             (None, 8)                 136       \n",
      "                                                                 \n",
      " dense_3 (Dense)             (None, 4)                 36        \n",
      "                                                                 \n",
      " dense_4 (Dense)             (None, 1)                 5         \n",
      "                                                                 \n",
      "=================================================================\n",
      "Total params: 160465 (626.82 KB)\n",
      "Trainable params: 160465 (626.82 KB)\n",
      "Non-trainable params: 0 (0.00 Byte)\n",
      "_________________________________________________________________\n"
     ]
    }
   ],
   "source": [
    "model.summary()"
   ]
  },
  {
   "cell_type": "markdown",
   "metadata": {},
   "source": [
    "Verbose:\n",
    "verbose controls the verbosity mode during training. It specifies how the training progress is displayed.\n",
    "It can take one of the following values:\n",
    "0: Silent mode. The training progress will not be displayed on the console during training.\n",
    "1: Verbose mode (default). Progress bars will be displayed showing the training and validation loss and metrics for each epoch.\n",
    "2: One line per epoch. Only the summary of training and validation loss and metrics for each epoch will be displayed.\n",
    "\n",
    "Batch Size:\n",
    "batch_size determines the number of samples that will be processed in each training iteration (batch) before updating the model's parameters."
   ]
  },
  {
   "cell_type": "code",
   "execution_count": 9,
   "metadata": {},
   "outputs": [
    {
     "name": "stdout",
     "output_type": "stream",
     "text": [
      "Epoch 1/20\n",
      "40/40 [==============================] - 4s 54ms/step - loss: 0.1932 - accuracy: 0.7276 - val_loss: 0.1321 - val_accuracy: 0.8832\n",
      "Epoch 2/20\n",
      "40/40 [==============================] - 1s 25ms/step - loss: 0.0861 - accuracy: 0.9136 - val_loss: 0.0922 - val_accuracy: 0.8788\n",
      "Epoch 3/20\n",
      "40/40 [==============================] - 1s 26ms/step - loss: 0.0506 - accuracy: 0.9455 - val_loss: 0.0855 - val_accuracy: 0.8836\n",
      "Epoch 4/20\n",
      "40/40 [==============================] - 1s 25ms/step - loss: 0.0368 - accuracy: 0.9614 - val_loss: 0.0855 - val_accuracy: 0.8884\n",
      "Epoch 5/20\n",
      "40/40 [==============================] - 1s 25ms/step - loss: 0.0277 - accuracy: 0.9736 - val_loss: 0.0884 - val_accuracy: 0.8814\n",
      "Epoch 6/20\n",
      "40/40 [==============================] - 1s 26ms/step - loss: 0.0213 - accuracy: 0.9815 - val_loss: 0.0897 - val_accuracy: 0.8848\n",
      "Epoch 7/20\n",
      "40/40 [==============================] - 1s 25ms/step - loss: 0.0163 - accuracy: 0.9862 - val_loss: 0.0938 - val_accuracy: 0.8806\n",
      "Epoch 8/20\n",
      "40/40 [==============================] - 1s 24ms/step - loss: 0.0126 - accuracy: 0.9898 - val_loss: 0.0963 - val_accuracy: 0.8758\n",
      "Epoch 9/20\n",
      "40/40 [==============================] - 1s 24ms/step - loss: 0.0103 - accuracy: 0.9922 - val_loss: 0.0989 - val_accuracy: 0.8758\n",
      "Epoch 10/20\n",
      "40/40 [==============================] - 1s 24ms/step - loss: 0.0088 - accuracy: 0.9930 - val_loss: 0.1000 - val_accuracy: 0.8738\n",
      "Epoch 11/20\n",
      "40/40 [==============================] - 1s 28ms/step - loss: 0.0077 - accuracy: 0.9934 - val_loss: 0.1013 - val_accuracy: 0.8734\n",
      "Epoch 12/20\n",
      "40/40 [==============================] - 1s 25ms/step - loss: 0.0072 - accuracy: 0.9937 - val_loss: 0.1026 - val_accuracy: 0.8696\n",
      "Epoch 13/20\n",
      "40/40 [==============================] - 1s 27ms/step - loss: 0.0069 - accuracy: 0.9937 - val_loss: 0.1035 - val_accuracy: 0.8718\n",
      "Epoch 14/20\n",
      "40/40 [==============================] - 1s 26ms/step - loss: 0.0067 - accuracy: 0.9937 - val_loss: 0.1040 - val_accuracy: 0.8714\n",
      "Epoch 15/20\n",
      "40/40 [==============================] - 1s 27ms/step - loss: 0.0065 - accuracy: 0.9937 - val_loss: 0.1046 - val_accuracy: 0.8724\n",
      "Epoch 16/20\n",
      "40/40 [==============================] - 1s 26ms/step - loss: 0.0064 - accuracy: 0.9938 - val_loss: 0.1053 - val_accuracy: 0.8726\n",
      "Epoch 17/20\n",
      "40/40 [==============================] - 1s 27ms/step - loss: 0.0063 - accuracy: 0.9940 - val_loss: 0.1058 - val_accuracy: 0.8738\n",
      "Epoch 18/20\n",
      "40/40 [==============================] - 1s 26ms/step - loss: 0.0062 - accuracy: 0.9940 - val_loss: 0.1059 - val_accuracy: 0.8736\n",
      "Epoch 19/20\n",
      "40/40 [==============================] - 1s 27ms/step - loss: 0.0062 - accuracy: 0.9940 - val_loss: 0.1061 - val_accuracy: 0.8730\n",
      "Epoch 20/20\n",
      "40/40 [==============================] - 1s 24ms/step - loss: 0.0061 - accuracy: 0.9940 - val_loss: 0.1064 - val_accuracy: 0.8730\n"
     ]
    }
   ],
   "source": [
    "history = model.fit(x_train,y_train,validation_split=0.2,epochs=20,verbose=1,batch_size=512)\n"
   ]
  },
  {
   "cell_type": "code",
   "execution_count": 10,
   "metadata": {},
   "outputs": [
    {
     "name": "stdout",
     "output_type": "stream",
     "text": [
      "782/782 [==============================] - 3s 4ms/step - loss: 0.1172 - accuracy: 0.8626\n",
      "MSE  0.11716283857822418\n",
      "MAE  0.862559974193573\n"
     ]
    }
   ],
   "source": [
    "mse,mae = model.evaluate(x_test,y_test)\n",
    "\n",
    "print('MSE ',mse)\n",
    "print('MAE ',mae)"
   ]
  },
  {
   "cell_type": "code",
   "execution_count": 12,
   "metadata": {},
   "outputs": [
    {
     "name": "stdout",
     "output_type": "stream",
     "text": [
      "782/782 [==============================] - 3s 4ms/step\n"
     ]
    }
   ],
   "source": [
    "y_preds = model.predict(x_test)"
   ]
  },
  {
   "cell_type": "code",
   "execution_count": 13,
   "metadata": {},
   "outputs": [
    {
     "data": {
      "text/plain": [
       "array([[4.1691408e-02],\n",
       "       [9.9961877e-01],\n",
       "       [7.9639599e-04],\n",
       "       ...,\n",
       "       [6.6253953e-02],\n",
       "       [5.1027955e-04],\n",
       "       [8.5745743e-03]], dtype=float32)"
      ]
     },
     "execution_count": 13,
     "metadata": {},
     "output_type": "execute_result"
    }
   ],
   "source": [
    "y_preds\n"
   ]
  },
  {
   "cell_type": "code",
   "execution_count": 14,
   "metadata": {},
   "outputs": [
    {
     "name": "stdout",
     "output_type": "stream",
     "text": [
      "0.86256\n",
      "0.870140476968311\n",
      "0.85232\n"
     ]
    }
   ],
   "source": [
    "tests=[]\n",
    "for i in y_test:\n",
    "    tests.append(int(i))\n",
    "preds=[]\n",
    "for i in y_preds:\n",
    "    if i[0]>0.5:\n",
    "        preds.append(1)\n",
    "    else:\n",
    "        preds.append(0)\n",
    "from sklearn.metrics import accuracy_score,precision_score,recall_score\n",
    "\n",
    "print(accuracy_score(tests,preds))\n",
    "print(precision_score(tests,preds))\n",
    "print(recall_score(tests,preds))"
   ]
  },
  {
   "cell_type": "markdown",
   "metadata": {},
   "source": [
    "return_token(tid):\n",
    "This function takes a token ID as input (tid) and returns the corresponding word in the review.\n",
    "It iterates over the items in the word_index dictionary (which maps words to their integer indices) to find the word that corresponds to the given token ID.\n",
    "The function takes into account that the IMDb dataset's word indices are offset by 3, as the indices 0, 1, and 2 are reserved for \"padding\", \"start of sequence\", and \"unknown\" tokens, respectively.\n",
    "If the token ID is not found in the word_index dictionary, the function returns '?'.\n",
    "print_review(id_):\n",
    "This function takes a review ID (id_) as input and prints the corresponding movie review.\n",
    "It first retrieves the sequence of token IDs representing the review from train_data.\n",
    "Then, it uses the return_token() function to convert each token ID into its corresponding word.\n",
    "Finally, it joins these words into a single string, representing the movie review text.\n",
    "The resulting string is returned.\n",
    "These functions can be used to interpret and print individual movie reviews from the IMDb dataset. The print_review() function, in particular, allows you to view the text of a specific review by passing its index as an argument."
   ]
  },
  {
   "cell_type": "code",
   "execution_count": 15,
   "metadata": {},
   "outputs": [
    {
     "name": "stdout",
     "output_type": "stream",
     "text": [
      "Downloading data from https://storage.googleapis.com/tensorflow/tf-keras-datasets/imdb_word_index.json\n",
      "1641221/1641221 [==============================] - 0s 0us/step\n"
     ]
    }
   ],
   "source": [
    "word_index = imdb.get_word_index()\n",
    "def return_token(tid):\n",
    "    for k,v in word_index.items():\n",
    "        # We decode the review; note that our indices were offset by 3\n",
    "        # because 0, 1 and 2 are reserved indices for \"padding\", \"start of sequence\", and \"unknown\".\n",
    "        if v==tid-3:\n",
    "            return k\n",
    "    return '?'\n",
    "def print_review(id_):\n",
    "    sentence = ' '.join(return_token(i) for i in train_data[id_])\n",
    "    return sentence"
   ]
  },
  {
   "cell_type": "code",
   "execution_count": 16,
   "metadata": {},
   "outputs": [
    {
     "data": {
      "text/plain": [
       "\"? this film was just brilliant casting location scenery story direction everyone's really suited the part they played and you could just imagine being there robert ? is an amazing actor and now the same being director ? father came from the same scottish island as myself so i loved the fact there was a real connection with this film the witty remarks throughout the film were great it was just brilliant so much that i bought the film as soon as it was released for ? and would recommend it to everyone to watch and the fly fishing was amazing really cried at the end it was so sad and you know what they say if you cry at a film it must have been good and this definitely was also ? to the two little boy's that played the ? of norman and paul they were just brilliant children are often left out of the ? list i think because the stars that play them all grown up are such a big profile for the whole film but these children are amazing and should be praised for what they have done don't you think the whole story was so lovely because it was true and was someone's life after all that was shared with us all\""
      ]
     },
     "execution_count": 16,
     "metadata": {},
     "output_type": "execute_result"
    }
   ],
   "source": [
    "print_review(0)"
   ]
  },
  {
   "cell_type": "code",
   "execution_count": 17,
   "metadata": {},
   "outputs": [
    {
     "data": {
      "text/plain": [
       "1"
      ]
     },
     "execution_count": 17,
     "metadata": {},
     "output_type": "execute_result"
    }
   ],
   "source": [
    "train_label[0] #Positive\n"
   ]
  },
  {
   "cell_type": "code",
   "execution_count": 18,
   "metadata": {},
   "outputs": [
    {
     "data": {
      "text/plain": [
       "\"? this has to be one of the worst films of the 1990s when my friends i were watching this film being the target audience it was aimed at we just sat watched the first half an hour with our jaws touching the floor at how bad it really was the rest of the time everyone else in the theatre just started talking to each other leaving or generally crying into their popcorn that they actually paid money they had ? working to watch this feeble excuse for a film it must have looked like a great idea on paper but on film it looks like no one in the film has a clue what is going on crap acting crap costumes i can't get across how ? this is to watch save yourself an hour a bit of your life\""
      ]
     },
     "execution_count": 18,
     "metadata": {},
     "output_type": "execute_result"
    }
   ],
   "source": [
    "print_review(2)"
   ]
  },
  {
   "cell_type": "code",
   "execution_count": 19,
   "metadata": {},
   "outputs": [
    {
     "data": {
      "text/plain": [
       "0"
      ]
     },
     "execution_count": 19,
     "metadata": {},
     "output_type": "execute_result"
    }
   ],
   "source": [
    "train_label[2] # Negative"
   ]
  },
  {
   "cell_type": "code",
   "execution_count": 20,
   "metadata": {},
   "outputs": [
    {
     "data": {
      "text/plain": [
       "\"? the ? ? at storytelling the traditional sort many years after the event i can still see in my ? eye an elderly lady my friend's mother retelling the battle of ? she makes the characters come alive her passion is that of an eye witness one to the events on the ? heath a mile or so from where she lives br br of course it happened many years before she was born but you wouldn't guess from the way she tells it the same story is told in bars the length and ? of scotland as i discussed it with a friend one night in ? a local cut in to give his version the discussion continued to closing time br br stories passed down like this become part of our being who doesn't remember the stories our parents told us when we were children they become our invisible world and as we grow older they maybe still serve as inspiration or as an emotional ? fact and fiction blend with ? role models warning stories ? magic and mystery br br my name is ? like my grandfather and his grandfather before him our protagonist introduces himself to us and also introduces the story that stretches back through generations it produces stories within stories stories that evoke the ? wonder of scotland its rugged mountains ? in ? the stuff of legend yet ? is ? in reality this is what gives it its special charm it has a rough beauty and authenticity ? with some of the finest ? singing you will ever hear br br ? ? visits his grandfather in hospital shortly before his death he burns with frustration part of him ? to be in the twenty first century to hang out in ? but he is raised on the western ? among a ? speaking community br br yet there is a deeper conflict within him he ? to know the truth the truth behind his ? ancient stories where does fiction end and he wants to know the truth behind the death of his parents br br he is pulled to make a last ? journey to the ? of one of ? most ? mountains can the truth be told or is it all in stories br br in this story about stories we ? bloody battles ? lovers the ? of old and the sometimes more ? ? of accepted truth in doing so we each connect with ? as he lives the story of his own life br br ? the ? ? is probably the most honest ? and genuinely beautiful film of scotland ever made like ? i got slightly annoyed with the ? of hanging stories on more stories but also like ? i ? this once i saw the ? picture ' forget the box office ? of braveheart and its like you might even ? the ? famous ? of the wicker man to see a film that is true to scotland this one is probably unique if you maybe ? on it deeply enough you might even re ? the power of storytelling and the age old question of whether there are some truths that cannot be told but only experienced\""
      ]
     },
     "execution_count": 20,
     "metadata": {},
     "output_type": "execute_result"
    }
   ],
   "source": [
    "print_review(3)"
   ]
  },
  {
   "cell_type": "code",
   "execution_count": 21,
   "metadata": {},
   "outputs": [
    {
     "data": {
      "text/plain": [
       "1"
      ]
     },
     "execution_count": 21,
     "metadata": {},
     "output_type": "execute_result"
    }
   ],
   "source": [
    "train_label[3]"
   ]
  },
  {
   "cell_type": "code",
   "execution_count": 23,
   "metadata": {},
   "outputs": [
    {
     "name": "stdout",
     "output_type": "stream",
     "text": [
      "782/782 [==============================] - 3s 3ms/step\n"
     ]
    },
    {
     "data": {
      "image/png": "[encoded data removed]",
      "text/plain": [
       "<Figure size 640x480 with 1 Axes>"
      ]
     },
     "metadata": {},
     "output_type": "display_data"
    }
   ],
   "source": [
    "import numpy as np\n",
    "import matplotlib.pyplot as plt\n",
    "\n",
    "# Generate predictions\n",
    "y_pred = model.predict(x_test)\n",
    "y_pred = (y_pred > 0.92).astype(int)  # Convert probabilities to class labels\n",
    "\n",
    "# Count positive and negative predictions\n",
    "positive_predictions = np.sum(y_pred)\n",
    "negative_predictions = len(y_pred) - positive_predictions\n",
    "\n",
    "# Plot the pie chart\n",
    "labels = 'Positive Predictions', 'Negative Predictions'\n",
    "sizes = [positive_predictions, negative_predictions]\n",
    "fig1, ax1 = plt.subplots()\n",
    "ax1.pie(sizes, labels=labels, autopct='%1.1f%%', startangle=90)\n",
    "ax1.axis('equal')  # Equal aspect ratio ensures that pie is drawn as a circle.\n",
    "plt.show()"
   ]
  },
  {
   "cell_type": "code",
   "execution_count": null,
   "metadata": {},
   "outputs": [],
   "source": []
  },
  {
   "cell_type": "code",
   "execution_count": null,
   "metadata": {},
   "outputs": [],
   "source": []
  }
 ],
 "metadata": {
  "kernelspec": {
   "display_name": "MLkernel1",
   "language": "python",
   "name": "mlkernel1"
  },
  "language_info": {
   "codemirror_mode": {
    "name": "ipython",
    "version": 3
   },
   "file_extension": ".py",
   "mimetype": "text/x-python",
   "name": "python",
   "nbconvert_exporter": "python",
   "pygments_lexer": "ipython3",
   "version": "3.8.6"
  }
 },
 "nbformat": 4,
 "nbformat_minor": 2
}
