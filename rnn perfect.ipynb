{
 "cells": [
  {
   "cell_type": "code",
   "execution_count": 1,
   "metadata": {
    "id": "DaqmIj_m9Mes"
   },
   "outputs": [],
   "source": [
    "import pandas as pd\n",
    "import numpy as np\n",
    "from sklearn.preprocessing import MinMaxScaler\n"
   ]
  },
  {
   "cell_type": "code",
   "execution_count": 2,
   "metadata": {
    "id": "KM5BiunD-Lxn"
   },
   "outputs": [],
   "source": [
    "df = pd.read_csv('google_stock_data.csv')"
   ]
  },
  {
   "cell_type": "code",
   "execution_count": 3,
   "metadata": {
    "colab": {
     "base_uri": "https://localhost:8080/",
     "height": 206
    },
    "id": "WygSg_98-Vnz",
    "outputId": "645805c7-47c1-4b4b-9c62-a34edd862292"
   },
   "outputs": [
    {
     "data": {
      "text/html": [
       "<div>\n",
       "<style scoped>\n",
       "    .dataframe tbody tr th:only-of-type {\n",
       "        vertical-align: middle;\n",
       "    }\n",
       "\n",
       "    .dataframe tbody tr th {\n",
       "        vertical-align: top;\n",
       "    }\n",
       "\n",
       "    .dataframe thead th {\n",
       "        text-align: right;\n",
       "    }\n",
       "</style>\n",
       "<table border=\"1\" class=\"dataframe\">\n",
       "  <thead>\n",
       "    <tr style=\"text-align: right;\">\n",
       "      <th></th>\n",
       "      <th>Date</th>\n",
       "      <th>Open</th>\n",
       "      <th>High</th>\n",
       "      <th>Low</th>\n",
       "      <th>Close</th>\n",
       "      <th>Adj Close</th>\n",
       "      <th>Volume</th>\n",
       "    </tr>\n",
       "  </thead>\n",
       "  <tbody>\n",
       "    <tr>\n",
       "      <th>0</th>\n",
       "      <td>2010-01-04</td>\n",
       "      <td>15.689439</td>\n",
       "      <td>15.753504</td>\n",
       "      <td>15.621622</td>\n",
       "      <td>15.684434</td>\n",
       "      <td>15.684434</td>\n",
       "      <td>78169752</td>\n",
       "    </tr>\n",
       "    <tr>\n",
       "      <th>1</th>\n",
       "      <td>2010-01-05</td>\n",
       "      <td>15.695195</td>\n",
       "      <td>15.711712</td>\n",
       "      <td>15.554054</td>\n",
       "      <td>15.615365</td>\n",
       "      <td>15.615365</td>\n",
       "      <td>120067812</td>\n",
       "    </tr>\n",
       "    <tr>\n",
       "      <th>2</th>\n",
       "      <td>2010-01-06</td>\n",
       "      <td>15.662162</td>\n",
       "      <td>15.662162</td>\n",
       "      <td>15.174174</td>\n",
       "      <td>15.221722</td>\n",
       "      <td>15.221722</td>\n",
       "      <td>158988852</td>\n",
       "    </tr>\n",
       "    <tr>\n",
       "      <th>3</th>\n",
       "      <td>2010-01-07</td>\n",
       "      <td>15.250250</td>\n",
       "      <td>15.265265</td>\n",
       "      <td>14.831081</td>\n",
       "      <td>14.867367</td>\n",
       "      <td>14.867367</td>\n",
       "      <td>256315428</td>\n",
       "    </tr>\n",
       "    <tr>\n",
       "      <th>4</th>\n",
       "      <td>2010-01-08</td>\n",
       "      <td>14.814815</td>\n",
       "      <td>15.096346</td>\n",
       "      <td>14.742492</td>\n",
       "      <td>15.065566</td>\n",
       "      <td>15.065566</td>\n",
       "      <td>188783028</td>\n",
       "    </tr>\n",
       "  </tbody>\n",
       "</table>\n",
       "</div>"
      ],
      "text/plain": [
       "         Date       Open       High        Low      Close  Adj Close  \\\n",
       "0  2010-01-04  15.689439  15.753504  15.621622  15.684434  15.684434   \n",
       "1  2010-01-05  15.695195  15.711712  15.554054  15.615365  15.615365   \n",
       "2  2010-01-06  15.662162  15.662162  15.174174  15.221722  15.221722   \n",
       "3  2010-01-07  15.250250  15.265265  14.831081  14.867367  14.867367   \n",
       "4  2010-01-08  14.814815  15.096346  14.742492  15.065566  15.065566   \n",
       "\n",
       "      Volume  \n",
       "0   78169752  \n",
       "1  120067812  \n",
       "2  158988852  \n",
       "3  256315428  \n",
       "4  188783028  "
      ]
     },
     "execution_count": 3,
     "metadata": {},
     "output_type": "execute_result"
    }
   ],
   "source": [
    "df.head()"
   ]
  },
  {
   "cell_type": "code",
   "execution_count": 4,
   "metadata": {
    "colab": {
     "base_uri": "https://localhost:8080/"
    },
    "id": "yKjShqzl-fQL",
    "outputId": "088f707a-79a7-42a1-f572-59b7946143d0"
   },
   "outputs": [
    {
     "name": "stdout",
     "output_type": "stream",
     "text": [
      "<class 'pandas.core.frame.DataFrame'>\n",
      "RangeIndex: 3563 entries, 0 to 3562\n",
      "Data columns (total 7 columns):\n",
      " #   Column     Non-Null Count  Dtype  \n",
      "---  ------     --------------  -----  \n",
      " 0   Date       3563 non-null   object \n",
      " 1   Open       3563 non-null   float64\n",
      " 2   High       3563 non-null   float64\n",
      " 3   Low        3563 non-null   float64\n",
      " 4   Close      3563 non-null   float64\n",
      " 5   Adj Close  3563 non-null   float64\n",
      " 6   Volume     3563 non-null   int64  \n",
      "dtypes: float64(5), int64(1), object(1)\n",
      "memory usage: 195.0+ KB\n"
     ]
    }
   ],
   "source": [
    "df.info()"
   ]
  },
  {
   "cell_type": "code",
   "execution_count": 5,
   "metadata": {
    "id": "cwqVmwxf-9wh"
   },
   "outputs": [],
   "source": [
    "# Use only the 'Close' column for prediction\n",
    "df = df['Close'].values"
   ]
  },
  {
   "cell_type": "code",
   "execution_count": 6,
   "metadata": {
    "id": "q4H4p-7P_Lvd"
   },
   "outputs": [],
   "source": [
    "scaler = MinMaxScaler()\n",
    "df = scaler.fit_transform(df.reshape(-1, 1))\n",
    "\n",
    "# In this case, when you reshape your array using reshape(-1, 1), \n",
    "# you're instructing NumPy to reshape the array into a 2D array with as many rows as needed and 1 column.\n",
    "# The -1 indicates that NumPy should figure out the number of rows automatically based on the length of\n",
    "# the original array and the fact that you want 1 column.\n",
    "\n",
    "# So, if your original array has 100 elements, reshape(-1, 1) would reshape it into a 2D array with 100 rows and 1 column."
   ]
  },
  {
   "cell_type": "code",
   "execution_count": 7,
   "metadata": {
    "id": "c8nu2IGc-FqF"
   },
   "outputs": [],
   "source": [
    "# Create sequences of 60 consecutive stock prices as features and the 61st price as the label\n",
    "X = []\n",
    "y = []\n",
    "for i in range(60, len(df)):\n",
    "    X.append(df[i-60:i, 0])\n",
    "    y.append(df[i, 0])\n",
    "X, y = np.array(X), np.array(y)"
   ]
  },
  {
   "cell_type": "markdown",
   "metadata": {},
   "source": [
    "<!-- X = [] and y = []: Initialize empty lists to store the features and labels.\n",
    "for i in range(60, len(df)):: Iterate over the range starting from index 60 (to ensure enough past data for the first sequence) up to the length of your data.\n",
    "X.append(df[i-60:i, 0]): Append a sequence of 60 consecutive prices (from index i-60 to i-1) to the X list. df[i-60:i, 0] slices the DataFrame to select rows from i-60 to i-1 and the first (0th) column.\n",
    "y.append(df[i, 0]): Append the 61st price (at index i) to the y list.\n",
    "X, y = np.array(X), np.array(y): Convert the lists X and y into NumPy arrays, which are more efficient for numerical computations.\n",
    "This approach effectively creates input-output pairs for training a model where each input (X) is a sequence of 60 prices and the corresponding output (y) is the next price after that sequence. -->"
   ]
  },
  {
   "cell_type": "code",
   "execution_count": 8,
   "metadata": {
    "id": "Ab-aZJqZ-cUt"
   },
   "outputs": [],
   "source": [
    "# Reshape X to be of shape (samples, time steps, features) which is required for LSTM\n",
    "X = np.reshape(X, (X.shape[0], X.shape[1], 1))"
   ]
  },
  {
   "cell_type": "code",
   "execution_count": null,
   "metadata": {},
   "outputs": [],
   "source": [
    "# X.shape[0]: This represents the number of samples in your dataset. Each sample is a sequence of 60 consecutive stock prices.\n",
    "# X.shape[1]: This represents the number of time steps in each sequence, which is 60 in your case.\n",
    "# 1: This represents the number of features at each time step. Since you're using only the 'Close' price as the feature, you have one feature per time step.\n",
    "# By reshaping X to (X.shape[0], X.shape[1], 1), you're essentially adding a third dimension to your data. This reshaping is necessary because many deep learning frameworks, including TensorFlow and PyTorch, expect input data for RNNs to be in the shape of (batch_size, sequence_length, num_features).\n",
    "\n",
    "# So, X.shape[0] indicates the number of samples (or sequences), X.shape[1] indicates the length of each sequence, and the added 1 indicates the number of features at each time step."
   ]
  },
  {
   "cell_type": "code",
   "execution_count": 9,
   "metadata": {
    "id": "8mR-o_UqBLbP"
   },
   "outputs": [],
   "source": [
    "from tensorflow.keras.models import Sequential\n",
    "from tensorflow.keras.layers import Dense, LSTM, Dropout, SimpleRNN"
   ]
  },
  {
   "cell_type": "code",
   "execution_count": 10,
   "metadata": {
    "colab": {
     "base_uri": "https://localhost:8080/"
    },
    "id": "SnAlG4zFCNbl",
    "outputId": "8336952d-a89d-43bf-94c6-efea5640d73b"
   },
   "outputs": [
    {
     "name": "stdout",
     "output_type": "stream",
     "text": [
      "Model: \"sequential\"\n",
      "_________________________________________________________________\n",
      " Layer (type)                Output Shape              Param #   \n",
      "=================================================================\n",
      " simple_rnn (SimpleRNN)      (None, 60, 50)            2600      \n",
      "                                                                 \n",
      " dropout (Dropout)           (None, 60, 50)            0         \n",
      "                                                                 \n",
      " simple_rnn_1 (SimpleRNN)    (None, 60, 50)            5050      \n",
      "                                                                 \n",
      " dropout_1 (Dropout)         (None, 60, 50)            0         \n",
      "                                                                 \n",
      " simple_rnn_2 (SimpleRNN)    (None, 60, 50)            5050      \n",
      "                                                                 \n",
      " dropout_2 (Dropout)         (None, 60, 50)            0         \n",
      "                                                                 \n",
      " simple_rnn_3 (SimpleRNN)    (None, 50)                5050      \n",
      "                                                                 \n",
      " dropout_3 (Dropout)         (None, 50)                0         \n",
      "                                                                 \n",
      " dense (Dense)               (None, 1)                 51        \n",
      "                                                                 \n",
      "=================================================================\n",
      "Total params: 17801 (69.54 KB)\n",
      "Trainable params: 17801 (69.54 KB)\n",
      "Non-trainable params: 0 (0.00 Byte)\n",
      "_________________________________________________________________\n"
     ]
    }
   ],
   "source": [
    "# Tanh (hyperbolic tangent) activation function is commonly used in RNN architectures, \n",
    "# including SimpleRNN layers, because it allows the network to capture both positive and negative activations.\n",
    "# This is important for capturing a wide range of patterns and features in sequential data.\n",
    "# Tanh activation function outputs values in the range (-1, 1), making it suitable for RNNs where the input and output\n",
    "# values are often normalized within this range.\n",
    "# While ReLU (Rectified Linear Unit) activation function is commonly used in feedforward neural networks (DNNs)\n",
    "# due to its simplicity and computational efficiency, it may not be as suitable for RNNs because it doesn't \n",
    "# handle negative values well and can lead to vanishing gradients in long sequences.\n",
    "# Sigmoid activation function could also be used in RNNs, but tanh is often preferred because it offers a\n",
    "# wider range of values and helps alleviate the vanishing gradient problem better than sigmoid.\n",
    "\n",
    "\n",
    "model = Sequential()\n",
    "\n",
    "model.add(SimpleRNN(units=50,activation = \"tanh\", return_sequences = True, input_shape = (X.shape[1], 1)))\n",
    "model.add(Dropout(0.2))\n",
    "\n",
    "model.add(SimpleRNN(units=50,activation = \"tanh\", return_sequences = True))\n",
    "model.add(Dropout(0.2))\n",
    "\n",
    "model.add(SimpleRNN(units=50,activation = \"tanh\", return_sequences = True))\n",
    "model.add(Dropout(0.2))\n",
    "\n",
    "model.add(SimpleRNN(units=50))\n",
    "model.add(Dropout(0.2))\n",
    "\n",
    "model.add(Dense(units=1))\n",
    "\n",
    "model.compile(optimizer='adam',loss='mse')\n",
    "model.summary()\n",
    "\n",
    "# Therefore, there are a total of 5 layers in the model: 4 SimpleRNN layers and 1 Dense layer."
   ]
  },
  {
   "cell_type": "code",
   "execution_count": null,
   "metadata": {},
   "outputs": [],
   "source": [
    "# return_sequences=True: This parameter specifies whether the SimpleRNN layer should return the full sequence of outputs for each input sequence. When return_sequences=True, the layer will output a sequence of outputs for each time step in the input sequence. This is useful when stacking multiple recurrent layers or when you need to predict a sequence rather than a single value.\n",
    "# input_shape=(X.shape[1], 1): This parameter specifies the shape of the input data that the SimpleRNN layer expects. It is a tuple (time_steps, num_features) where:\n",
    "# time_steps corresponds to the number of time steps in each input sequence. In this context, X.shape[1] represents the length of each sequence, which is 60 in your case.\n",
    "# num_features corresponds to the number of features at each time step. Since you're using only the 'Close' price as the feature, you have one feature per time step, hence 1.\n",
    "# So, (X.shape[1], 1) specifies that each input sequence has 60 time steps (each representing a stock price) and each time step has one feature (the 'Close' price). This shape is compatible with the shape of your input data X."
   ]
  },
  {
   "cell_type": "code",
   "execution_count": 11,
   "metadata": {
    "colab": {
     "base_uri": "https://localhost:8080/"
    },
    "id": "yyu5gl8d9Met",
    "outputId": "f423fc09-16e8-46be-f445-42a66f61acd5",
    "scrolled": true
   },
   "outputs": [
    {
     "name": "stdout",
     "output_type": "stream",
     "text": [
      "Epoch 1/10\n",
      "111/111 [==============================] - 10s 66ms/step - loss: 0.3031 - val_loss: 0.0263\n",
      "Epoch 2/10\n",
      "111/111 [==============================] - 7s 64ms/step - loss: 0.1210 - val_loss: 0.0315\n",
      "Epoch 3/10\n",
      "111/111 [==============================] - 8s 68ms/step - loss: 0.0551 - val_loss: 0.0042\n",
      "Epoch 4/10\n",
      "111/111 [==============================] - 7s 62ms/step - loss: 0.0327 - val_loss: 0.0161\n",
      "Epoch 5/10\n",
      "111/111 [==============================] - 7s 66ms/step - loss: 0.0212 - val_loss: 0.0164\n",
      "Epoch 6/10\n",
      "111/111 [==============================] - 7s 63ms/step - loss: 0.0154 - val_loss: 0.0169\n",
      "Epoch 7/10\n",
      "111/111 [==============================] - 7s 60ms/step - loss: 0.0127 - val_loss: 0.0335\n",
      "Epoch 8/10\n",
      "111/111 [==============================] - 7s 64ms/step - loss: 0.0122 - val_loss: 0.0158\n",
      "Epoch 9/10\n",
      "111/111 [==============================] - 7s 66ms/step - loss: 0.0080 - val_loss: 0.0028\n",
      "Epoch 10/10\n",
      "111/111 [==============================] - 8s 72ms/step - loss: 0.0080 - val_loss: 0.0014\n"
     ]
    },
    {
     "data": {
      "text/plain": [
       "<keras.src.callbacks.History at 0x230890c71f0>"
      ]
     },
     "execution_count": 11,
     "metadata": {},
     "output_type": "execute_result"
    }
   ],
   "source": [
    "# Compile the model\n",
    "model.compile(optimizer='adam', loss='mean_squared_error')\n",
    "\n",
    "# Train the model\n",
    "model.fit(X,y,epochs=10,batch_size=30,validation_split=0.05)"
   ]
  },
  {
   "cell_type": "code",
   "execution_count": null,
   "metadata": {},
   "outputs": [],
   "source": [
    "# batch_size: The number of samples per gradient update. This determines how many samples are processed before the model's parameters are updated.\n",
    "# validation_split: The fraction of the training data to use as validation data. In this case, 5% of the training data will be used for validation during training."
   ]
  },
  {
   "cell_type": "code",
   "execution_count": 12,
   "metadata": {
    "colab": {
     "base_uri": "https://localhost:8080/",
     "height": 489
    },
    "id": "2erwCjge9Meu",
    "outputId": "4620cc2e-c41d-44e6-aecc-4f0a9b556130"
   },
   "outputs": [
    {
     "name": "stdout",
     "output_type": "stream",
     "text": [
      "110/110 [==============================] - 2s 15ms/step\n"
     ]
    },
    {
     "data": {
      "image/png": "[encoded data removed]",
      "text/plain": [
       "<Figure size 640x480 with 1 Axes>"
      ]
     },
     "metadata": {},
     "output_type": "display_data"
    }
   ],
   "source": [
    "import matplotlib.pyplot as plt\n",
    "\n",
    "# Generate predictions\n",
    "predicted_prices = model.predict(X)\n",
    "predicted_prices = scaler.inverse_transform(predicted_prices)  # Undo scaling\n",
    "\n",
    "# Get the actual prices (also undo scaling)\n",
    "actual_prices = scaler.inverse_transform(y.reshape(-1, 1))\n",
    "\n",
    "# Plot the actual vs predicted prices\n",
    "plt.plot(actual_prices, color='red', label='Actual Google Stock Price')\n",
    "plt.plot(predicted_prices, color='yellow', label='Predicted Google Stock Price')\n",
    "plt.title('Google Stock Price Prediction')\n",
    "plt.xlabel('Time')\n",
    "plt.ylabel('Google Stock Price')\n",
    "plt.legend()\n",
    "plt.show()\n",
    "\n",
    "#110/110 means it has made 110 predictions out of 110 samples"
   ]
  },
  {
   "cell_type": "code",
   "execution_count": null,
   "metadata": {},
   "outputs": [],
   "source": [
    "# predicted_prices = model.predict(X): This line generates predictions using the trained model. It uses the input data X to generate predictions for the corresponding target data y.\n",
    "# predicted_prices = scaler.inverse_transform(predicted_prices): After generating predictions, this line reverses the scaling transformation applied earlier using MinMaxScaler. It transforms the predicted prices back to their original scale.\n",
    "# actual_prices = scaler.inverse_transform(y.reshape(-1, 1)): Similarly, this line transforms the actual prices back to their original scale.\n",
    "# Plotting: The next few lines of code use matplotlib to create a plot showing the actual (red) and predicted (yellow) prices over time."
   ]
  },
  {
   "cell_type": "code",
   "execution_count": 13,
   "metadata": {
    "colab": {
     "base_uri": "https://localhost:8080/"
    },
    "id": "7X1Sk9yz9Mev",
    "outputId": "5a06a23f-6c3c-495b-a26e-aa0f30b4f0c9"
   },
   "outputs": [
    {
     "name": "stdout",
     "output_type": "stream",
     "text": [
      "R-squared: 99.40%\n"
     ]
    }
   ],
   "source": [
    "from sklearn.metrics import r2_score\n",
    "\n",
    "r2 = r2_score(actual_prices, predicted_prices)\n",
    "\n",
    "# print the R-squared value as a percentage\n",
    "print(\"R-squared: {:.2f}%\".format(r2 * 100))"
   ]
  },
  {
   "cell_type": "markdown",
   "metadata": {
    "id": "VqrpcQ9OEpHK"
   },
   "source": [
    "\n",
    "The R-squared (R2) score, also known as the coefficient of determination, is a statistical measure that indicates the proportion of the variance in the dependent variable (the target) that is predictable from the independent variables (the features) in a regression model.\n",
    "\n",
    "In the context of regression analysis, such as predicting stock prices, the R-squared score measures how well the regression model explains the variability of the target variable around its mean. It is a measure of how well the predictions from the model match the observed data.\n",
    "\n",
    "The R-squared score ranges from 0 to 1:\n",
    "\n",
    "An R-squared score of 0 indicates that the regression model does not explain any of the variability in the target variable. Essentially, the model provides no predictive power.\n",
    "An R-squared score of 1 indicates that the regression model perfectly explains all the variability in the target variable. The model's predictions match the observed data perfectly.\n",
    "However, it's important to note that R-squared alone does not indicate whether a model is good or bad. Even a model with a high R-squared value may not be a good model if it suffers from issues like overfitting or underfitting. Therefore, it's essential to consider other metrics and perform additional evaluations to assess the overall performance of the model."
   ]
  },
  {
   "cell_type": "markdown",
   "metadata": {},
   "source": [
    "SimpleRNN stands for Simple Recurrent Neural Network, which is a type of recurrent neural network (RNN) architecture.\n",
    "It is the simplest form of RNN, where each neuron in the network receives input not only from the current time step but also from the output of the previous time step.\n",
    "SimpleRNN has a simple architecture, but it suffers from the vanishing gradient problem, which limits its ability to capture long-range dependencies in sequences.\n",
    "Despite its limitations, SimpleRNN can still be useful for certain tasks and serves as a foundational building block for more complex RNN architectures like LSTM (Long Short-Term Memory) and GRU (Gated Recurrent Unit)."
   ]
  },
  {
   "cell_type": "markdown",
   "metadata": {},
   "source": [
    "# vanishing gradient- relu removes vanishing gradient"
   ]
  },
  {
   "cell_type": "markdown",
   "metadata": {},
   "source": [
    "In neural networks, training involves adjusting the weights of connections between neurons based on feedback (gradients) received during training. The vanishing gradient problem occurs when these gradients become extremely small as they propagate backward through the network during training. It's like the feedback you're giving to the students becomes so weak or unclear that they stop learning effectively.\n",
    "When gradients become too small, the network's weights stop updating properly, and learning slows down or stops altogether. This typically happens in deep neural networks with many layers, especially when using activation functions like sigmoid or tanh, which have flat regions where gradients approach zero."
   ]
  },
  {
   "cell_type": "code",
   "execution_count": null,
   "metadata": {},
   "outputs": [],
   "source": []
  }
 ],
 "metadata": {
  "colab": {
   "provenance": []
  },
  "kernelspec": {
   "display_name": "MLkernel1",
   "language": "python",
   "name": "mlkernel1"
  },
  "language_info": {
   "codemirror_mode": {
    "name": "ipython",
    "version": 3
   },
   "file_extension": ".py",
   "mimetype": "text/x-python",
   "name": "python",
   "nbconvert_exporter": "python",
   "pygments_lexer": "ipython3",
   "version": "3.8.6"
  }
 },
 "nbformat": 4,
 "nbformat_minor": 1
}
