{
 "cells": [
  {
   "cell_type": "markdown",
   "metadata": {},
   "source": [
    "## Recurrent neural network (RNN)\n",
    "### Google Stock Price Prediction\n",
    "#### COMPBEB1326"
   ]
  },
  {
   "cell_type": "code",
   "execution_count": 1,
   "metadata": {
    "executionInfo": {
     "elapsed": 12,
     "status": "ok",
     "timestamp": 1682515944713,
     "user": {
      "displayName": "Aryan Pawar",
      "userId": "00492405077873426637"
     },
     "user_tz": -330
    },
    "id": "b0VgXczH5M8S"
   },
   "outputs": [],
   "source": [
    "import numpy as np\n",
    "import pandas as pd\n",
    "import matplotlib.pyplot as plt"
   ]
  },
  {
   "cell_type": "code",
   "execution_count": 2,
   "metadata": {
    "colab": {
     "base_uri": "https://localhost:8080/",
     "height": 73
    },
    "executionInfo": {
     "elapsed": 12081,
     "status": "ok",
     "timestamp": 1682515956783,
     "user": {
      "displayName": "Aryan Pawar",
      "userId": "00492405077873426637"
     },
     "user_tz": -330
    },
    "id": "DbKdgs0E5liV",
    "outputId": "abe3feab-d67a-4594-f810-8e8369796919"
   },
   "outputs": [],
   "source": [
    "df_train = pd.read_csv('trainset.csv')\n"
   ]
  },
  {
   "cell_type": "code",
   "execution_count": 3,
   "metadata": {
    "colab": {
     "base_uri": "https://localhost:8080/",
     "height": 73
    },
    "executionInfo": {
     "elapsed": 7810,
     "status": "ok",
     "timestamp": 1682515964586,
     "user": {
      "displayName": "Aryan Pawar",
      "userId": "00492405077873426637"
     },
     "user_tz": -330
    },
    "id": "4f1HaHmr6rkt",
    "outputId": "8d7a714b-3081-48ea-a187-867ea36befcb"
   },
   "outputs": [],
   "source": [
    "df_test = pd.read_csv('testset.csv')\n"
   ]
  },
  {
   "cell_type": "code",
   "execution_count": 4,
   "metadata": {
    "colab": {
     "base_uri": "https://localhost:8080/",
     "height": 206
    },
    "executionInfo": {
     "elapsed": 34,
     "status": "ok",
     "timestamp": 1682515964587,
     "user": {
      "displayName": "Aryan Pawar",
      "userId": "00492405077873426637"
     },
     "user_tz": -330
    },
    "id": "od8h7_l86-tK",
    "outputId": "3b8fa817-2586-490f-9d2f-f7fd379847ff"
   },
   "outputs": [
    {
     "data": {
      "text/html": [
       "<div>\n",
       "<style scoped>\n",
       "    .dataframe tbody tr th:only-of-type {\n",
       "        vertical-align: middle;\n",
       "    }\n",
       "\n",
       "    .dataframe tbody tr th {\n",
       "        vertical-align: top;\n",
       "    }\n",
       "\n",
       "    .dataframe thead th {\n",
       "        text-align: right;\n",
       "    }\n",
       "</style>\n",
       "<table border=\"1\" class=\"dataframe\">\n",
       "  <thead>\n",
       "    <tr style=\"text-align: right;\">\n",
       "      <th></th>\n",
       "      <th>Date</th>\n",
       "      <th>Open</th>\n",
       "      <th>High</th>\n",
       "      <th>Low</th>\n",
       "      <th>Close</th>\n",
       "      <th>Adj Close</th>\n",
       "      <th>Volume</th>\n",
       "    </tr>\n",
       "  </thead>\n",
       "  <tbody>\n",
       "    <tr>\n",
       "      <th>0</th>\n",
       "      <td>2013-01-02</td>\n",
       "      <td>357.385559</td>\n",
       "      <td>361.151062</td>\n",
       "      <td>355.959839</td>\n",
       "      <td>359.288177</td>\n",
       "      <td>359.288177</td>\n",
       "      <td>5115500</td>\n",
       "    </tr>\n",
       "    <tr>\n",
       "      <th>1</th>\n",
       "      <td>2013-01-03</td>\n",
       "      <td>360.122742</td>\n",
       "      <td>363.600128</td>\n",
       "      <td>358.031342</td>\n",
       "      <td>359.496826</td>\n",
       "      <td>359.496826</td>\n",
       "      <td>4666500</td>\n",
       "    </tr>\n",
       "    <tr>\n",
       "      <th>2</th>\n",
       "      <td>2013-01-04</td>\n",
       "      <td>362.313507</td>\n",
       "      <td>368.339294</td>\n",
       "      <td>361.488861</td>\n",
       "      <td>366.600616</td>\n",
       "      <td>366.600616</td>\n",
       "      <td>5562800</td>\n",
       "    </tr>\n",
       "    <tr>\n",
       "      <th>3</th>\n",
       "      <td>2013-01-07</td>\n",
       "      <td>365.348755</td>\n",
       "      <td>367.301056</td>\n",
       "      <td>362.929504</td>\n",
       "      <td>365.001007</td>\n",
       "      <td>365.001007</td>\n",
       "      <td>3332900</td>\n",
       "    </tr>\n",
       "    <tr>\n",
       "      <th>4</th>\n",
       "      <td>2013-01-08</td>\n",
       "      <td>365.393463</td>\n",
       "      <td>365.771027</td>\n",
       "      <td>359.874359</td>\n",
       "      <td>364.280701</td>\n",
       "      <td>364.280701</td>\n",
       "      <td>3373900</td>\n",
       "    </tr>\n",
       "  </tbody>\n",
       "</table>\n",
       "</div>"
      ],
      "text/plain": [
       "         Date        Open        High         Low       Close   Adj Close  \\\n",
       "0  2013-01-02  357.385559  361.151062  355.959839  359.288177  359.288177   \n",
       "1  2013-01-03  360.122742  363.600128  358.031342  359.496826  359.496826   \n",
       "2  2013-01-04  362.313507  368.339294  361.488861  366.600616  366.600616   \n",
       "3  2013-01-07  365.348755  367.301056  362.929504  365.001007  365.001007   \n",
       "4  2013-01-08  365.393463  365.771027  359.874359  364.280701  364.280701   \n",
       "\n",
       "    Volume  \n",
       "0  5115500  \n",
       "1  4666500  \n",
       "2  5562800  \n",
       "3  3332900  \n",
       "4  3373900  "
      ]
     },
     "execution_count": 4,
     "metadata": {},
     "output_type": "execute_result"
    }
   ],
   "source": [
    "df_train.head()"
   ]
  },
  {
   "cell_type": "code",
   "execution_count": 5,
   "metadata": {},
   "outputs": [
    {
     "data": {
      "text/plain": [
       "(1259, 7)"
      ]
     },
     "execution_count": 5,
     "metadata": {},
     "output_type": "execute_result"
    }
   ],
   "source": [
    "df_train.shape"
   ]
  },
  {
   "cell_type": "code",
   "execution_count": 6,
   "metadata": {
    "colab": {
     "base_uri": "https://localhost:8080/"
    },
    "executionInfo": {
     "elapsed": 33,
     "status": "ok",
     "timestamp": 1682515964588,
     "user": {
      "displayName": "Aryan Pawar",
      "userId": "00492405077873426637"
     },
     "user_tz": -330
    },
    "id": "qJDe1-_F7Gx4",
    "outputId": "af475cb5-a200-41d1-c9b8-35f9c31fd4bf"
   },
   "outputs": [
    {
     "data": {
      "text/plain": [
       "array([[ 357.385559],\n",
       "       [ 360.122742],\n",
       "       [ 362.313507],\n",
       "       ...,\n",
       "       [1057.390015],\n",
       "       [1051.599976],\n",
       "       [1046.719971]])"
      ]
     },
     "execution_count": 6,
     "metadata": {},
     "output_type": "execute_result"
    }
   ],
   "source": [
    "trainset = df_train.iloc[:,1:2].values\n",
    "trainset"
   ]
  },
  {
   "cell_type": "code",
   "execution_count": 7,
   "metadata": {
    "colab": {
     "base_uri": "https://localhost:8080/"
    },
    "executionInfo": {
     "elapsed": 16,
     "status": "ok",
     "timestamp": 1682515964588,
     "user": {
      "displayName": "Aryan Pawar",
      "userId": "00492405077873426637"
     },
     "user_tz": -330
    },
    "id": "8_BO4cS87Qv0",
    "outputId": "8c615461-e6b7-492f-b23d-b6b6792743f5"
   },
   "outputs": [
    {
     "data": {
      "text/plain": [
       "array([[0.01011148],\n",
       "       [0.01388614],\n",
       "       [0.01690727],\n",
       "       ...,\n",
       "       [0.97543954],\n",
       "       [0.9674549 ],\n",
       "       [0.96072522]])"
      ]
     },
     "execution_count": 7,
     "metadata": {},
     "output_type": "execute_result"
    }
   ],
   "source": [
    "from sklearn.preprocessing import MinMaxScaler\n",
    "sc = MinMaxScaler(feature_range = (0,1))\n",
    "training_scaled = sc.fit_transform(trainset)\n",
    "training_scaled"
   ]
  },
  {
   "cell_type": "code",
   "execution_count": 8,
   "metadata": {
    "colab": {
     "base_uri": "https://localhost:8080/"
    },
    "executionInfo": {
     "elapsed": 14,
     "status": "ok",
     "timestamp": 1682515964589,
     "user": {
      "displayName": "Aryan Pawar",
      "userId": "00492405077873426637"
     },
     "user_tz": -330
    },
    "id": "6tuSzWtH7az8",
    "outputId": "a35a5bb3-3e2a-4f71-c446-3b7073965da4"
   },
   "outputs": [
    {
     "data": {
      "text/plain": [
       "(1199, 60)"
      ]
     },
     "execution_count": 8,
     "metadata": {},
     "output_type": "execute_result"
    }
   ],
   "source": [
    "x_train = []\n",
    "y_train = []\n",
    "for i in range(60,1259):\n",
    "    x_train.append(training_scaled[i-60:i, 0])\n",
    "    y_train.append(training_scaled[i,0])\n",
    "x_train,y_train = np.array(x_train),np.array(y_train)\n",
    "x_train.shape"
   ]
  },
  {
   "cell_type": "code",
   "execution_count": 9,
   "metadata": {
    "executionInfo": {
     "elapsed": 13,
     "status": "ok",
     "timestamp": 1682515964591,
     "user": {
      "displayName": "Aryan Pawar",
      "userId": "00492405077873426637"
     },
     "user_tz": -330
    },
    "id": "muocg79-7hKi"
   },
   "outputs": [],
   "source": [
    "x_train = np.reshape(x_train, (x_train.shape[0],x_train.shape[1],1))"
   ]
  },
  {
   "cell_type": "code",
   "execution_count": 10,
   "metadata": {
    "executionInfo": {
     "elapsed": 14,
     "status": "ok",
     "timestamp": 1682515964592,
     "user": {
      "displayName": "Aryan Pawar",
      "userId": "00492405077873426637"
     },
     "user_tz": -330
    },
    "id": "y4BHcokw7kcr"
   },
   "outputs": [],
   "source": [
    "from keras.models import Sequential\n",
    "from keras.layers import Dense\n",
    "from keras.layers import LSTM\n",
    "from keras.layers import Dropout"
   ]
  },
  {
   "cell_type": "code",
   "execution_count": 11,
   "metadata": {
    "executionInfo": {
     "elapsed": 15,
     "status": "ok",
     "timestamp": 1682515964594,
     "user": {
      "displayName": "Aryan Pawar",
      "userId": "00492405077873426637"
     },
     "user_tz": -330
    },
    "id": "TmhJFq6f7nwg"
   },
   "outputs": [],
   "source": [
    "regressor = Sequential()\n",
    "regressor.add(LSTM(units = 50,return_sequences = True,input_shape = (x_train.shape[1],1)))"
   ]
  },
  {
   "cell_type": "code",
   "execution_count": 12,
   "metadata": {
    "executionInfo": {
     "elapsed": 749,
     "status": "ok",
     "timestamp": 1682515965329,
     "user": {
      "displayName": "Aryan Pawar",
      "userId": "00492405077873426637"
     },
     "user_tz": -330
    },
    "id": "Yf4Bsuez7pl3"
   },
   "outputs": [],
   "source": [
    "regressor.add(Dropout(0.2))"
   ]
  },
  {
   "cell_type": "code",
   "execution_count": 13,
   "metadata": {
    "executionInfo": {
     "elapsed": 10,
     "status": "ok",
     "timestamp": 1682515965330,
     "user": {
      "displayName": "Aryan Pawar",
      "userId": "00492405077873426637"
     },
     "user_tz": -330
    },
    "id": "yhgo1deq7rN7"
   },
   "outputs": [],
   "source": [
    "regressor.add(LSTM(units = 50,return_sequences = True))\n",
    "regressor.add(Dropout(0.2))"
   ]
  },
  {
   "cell_type": "code",
   "execution_count": 14,
   "metadata": {
    "executionInfo": {
     "elapsed": 11,
     "status": "ok",
     "timestamp": 1682515965331,
     "user": {
      "displayName": "Aryan Pawar",
      "userId": "00492405077873426637"
     },
     "user_tz": -330
    },
    "id": "a-Q94YbK7s-W"
   },
   "outputs": [],
   "source": [
    "regressor.add(LSTM(units = 50,return_sequences = True))\n",
    "regressor.add(Dropout(0.2))"
   ]
  },
  {
   "cell_type": "code",
   "execution_count": 15,
   "metadata": {
    "executionInfo": {
     "elapsed": 10,
     "status": "ok",
     "timestamp": 1682515965331,
     "user": {
      "displayName": "Aryan Pawar",
      "userId": "00492405077873426637"
     },
     "user_tz": -330
    },
    "id": "kwPpBSet7vV7"
   },
   "outputs": [],
   "source": [
    "regressor.add(LSTM(units = 50))\n",
    "regressor.add(Dropout(0.2))"
   ]
  },
  {
   "cell_type": "code",
   "execution_count": 16,
   "metadata": {
    "executionInfo": {
     "elapsed": 10,
     "status": "ok",
     "timestamp": 1682515965332,
     "user": {
      "displayName": "Aryan Pawar",
      "userId": "00492405077873426637"
     },
     "user_tz": -330
    },
    "id": "eN9GKXEP7xTs"
   },
   "outputs": [],
   "source": [
    "regressor.add(Dense(units = 1))"
   ]
  },
  {
   "cell_type": "code",
   "execution_count": 17,
   "metadata": {
    "executionInfo": {
     "elapsed": 10,
     "status": "ok",
     "timestamp": 1682515965332,
     "user": {
      "displayName": "Aryan Pawar",
      "userId": "00492405077873426637"
     },
     "user_tz": -330
    },
    "id": "nchcNPRF7zM9"
   },
   "outputs": [],
   "source": [
    "regressor.compile(optimizer = 'adam',loss = 'mean_squared_error')"
   ]
  },
  {
   "cell_type": "code",
   "execution_count": 18,
   "metadata": {
    "colab": {
     "base_uri": "https://localhost:8080/"
    },
    "executionInfo": {
     "elapsed": 388001,
     "status": "ok",
     "timestamp": 1682516353324,
     "user": {
      "displayName": "Aryan Pawar",
      "userId": "00492405077873426637"
     },
     "user_tz": -330
    },
    "id": "QLY8Qa5071G9",
    "outputId": "24f15c31-b671-4407-a90c-3507f036c67d"
   },
   "outputs": [
    {
     "name": "stdout",
     "output_type": "stream",
     "text": [
      "Epoch 1/100\n",
      "38/38 [==============================] - 11s 123ms/step - loss: 0.0285\n",
      "Epoch 2/100\n",
      "38/38 [==============================] - 5s 141ms/step - loss: 0.0048\n",
      "Epoch 3/100\n",
      "38/38 [==============================] - 5s 132ms/step - loss: 0.0049\n",
      "Epoch 4/100\n",
      "38/38 [==============================] - 5s 136ms/step - loss: 0.0038\n",
      "Epoch 5/100\n",
      "38/38 [==============================] - 5s 136ms/step - loss: 0.0035\n",
      "Epoch 6/100\n",
      "38/38 [==============================] - 5s 135ms/step - loss: 0.0039\n",
      "Epoch 7/100\n",
      "38/38 [==============================] - 5s 120ms/step - loss: 0.0034\n",
      "Epoch 8/100\n",
      "38/38 [==============================] - 5s 126ms/step - loss: 0.0032\n",
      "Epoch 9/100\n",
      "38/38 [==============================] - 5s 138ms/step - loss: 0.0036\n",
      "Epoch 10/100\n",
      "38/38 [==============================] - 5s 131ms/step - loss: 0.0032\n",
      "Epoch 11/100\n",
      "38/38 [==============================] - 5s 128ms/step - loss: 0.0030\n",
      "Epoch 12/100\n",
      "38/38 [==============================] - 5s 131ms/step - loss: 0.0029\n",
      "Epoch 13/100\n",
      "38/38 [==============================] - 5s 135ms/step - loss: 0.0031\n",
      "Epoch 14/100\n",
      "38/38 [==============================] - 5s 120ms/step - loss: 0.0030\n",
      "Epoch 15/100\n",
      "38/38 [==============================] - 5s 126ms/step - loss: 0.0026\n",
      "Epoch 16/100\n",
      "38/38 [==============================] - 5s 120ms/step - loss: 0.0029\n",
      "Epoch 17/100\n",
      "38/38 [==============================] - 5s 127ms/step - loss: 0.0025\n",
      "Epoch 18/100\n",
      "38/38 [==============================] - 5s 127ms/step - loss: 0.0028\n",
      "Epoch 19/100\n",
      "38/38 [==============================] - 5s 126ms/step - loss: 0.0024\n",
      "Epoch 20/100\n",
      "38/38 [==============================] - 5s 122ms/step - loss: 0.0022\n",
      "Epoch 21/100\n",
      "38/38 [==============================] - 5s 120ms/step - loss: 0.0025\n",
      "Epoch 22/100\n",
      "38/38 [==============================] - 5s 130ms/step - loss: 0.0024\n",
      "Epoch 23/100\n",
      "38/38 [==============================] - 5s 128ms/step - loss: 0.0023\n",
      "Epoch 24/100\n",
      "38/38 [==============================] - 5s 122ms/step - loss: 0.0023\n",
      "Epoch 25/100\n",
      "38/38 [==============================] - 5s 123ms/step - loss: 0.0024\n",
      "Epoch 26/100\n",
      "38/38 [==============================] - 5s 119ms/step - loss: 0.0023\n",
      "Epoch 27/100\n",
      "38/38 [==============================] - 5s 122ms/step - loss: 0.0024\n",
      "Epoch 28/100\n",
      "38/38 [==============================] - 5s 122ms/step - loss: 0.0025\n",
      "Epoch 29/100\n",
      "38/38 [==============================] - 5s 122ms/step - loss: 0.0021\n",
      "Epoch 30/100\n",
      "38/38 [==============================] - 5s 140ms/step - loss: 0.0020\n",
      "Epoch 31/100\n",
      "38/38 [==============================] - 5s 128ms/step - loss: 0.0020\n",
      "Epoch 32/100\n",
      "38/38 [==============================] - 5s 123ms/step - loss: 0.0021\n",
      "Epoch 33/100\n",
      "38/38 [==============================] - 5s 126ms/step - loss: 0.0024\n",
      "Epoch 34/100\n",
      "38/38 [==============================] - 5s 126ms/step - loss: 0.0021\n",
      "Epoch 35/100\n",
      "38/38 [==============================] - 5s 122ms/step - loss: 0.0021\n",
      "Epoch 36/100\n",
      "38/38 [==============================] - 5s 127ms/step - loss: 0.0020\n",
      "Epoch 37/100\n",
      "38/38 [==============================] - 5s 129ms/step - loss: 0.0020\n",
      "Epoch 38/100\n",
      "38/38 [==============================] - 5s 126ms/step - loss: 0.0020\n",
      "Epoch 39/100\n",
      "38/38 [==============================] - 5s 119ms/step - loss: 0.0018\n",
      "Epoch 40/100\n",
      "38/38 [==============================] - 5s 130ms/step - loss: 0.0022\n",
      "Epoch 41/100\n",
      "38/38 [==============================] - 5s 126ms/step - loss: 0.0018\n",
      "Epoch 42/100\n",
      "38/38 [==============================] - 5s 127ms/step - loss: 0.0019\n",
      "Epoch 43/100\n",
      "38/38 [==============================] - 5s 128ms/step - loss: 0.0018\n",
      "Epoch 44/100\n",
      "38/38 [==============================] - 5s 139ms/step - loss: 0.0019\n",
      "Epoch 45/100\n",
      "38/38 [==============================] - 5s 132ms/step - loss: 0.0018\n",
      "Epoch 46/100\n",
      "38/38 [==============================] - 5s 141ms/step - loss: 0.0021\n",
      "Epoch 47/100\n",
      "38/38 [==============================] - 5s 130ms/step - loss: 0.0017\n",
      "Epoch 48/100\n",
      "38/38 [==============================] - 5s 130ms/step - loss: 0.0020\n",
      "Epoch 49/100\n",
      "38/38 [==============================] - 5s 133ms/step - loss: 0.0017\n",
      "Epoch 50/100\n",
      "38/38 [==============================] - 5s 140ms/step - loss: 0.0018\n",
      "Epoch 51/100\n",
      "38/38 [==============================] - 5s 131ms/step - loss: 0.0016\n",
      "Epoch 52/100\n",
      "38/38 [==============================] - 5s 134ms/step - loss: 0.0016\n",
      "Epoch 53/100\n",
      "38/38 [==============================] - 6s 148ms/step - loss: 0.0017\n",
      "Epoch 54/100\n",
      "38/38 [==============================] - 5s 135ms/step - loss: 0.0016\n",
      "Epoch 55/100\n",
      "38/38 [==============================] - 5s 126ms/step - loss: 0.0016\n",
      "Epoch 56/100\n",
      "38/38 [==============================] - 5s 124ms/step - loss: 0.0015\n",
      "Epoch 57/100\n",
      "38/38 [==============================] - 5s 128ms/step - loss: 0.0015\n",
      "Epoch 58/100\n",
      "38/38 [==============================] - 5s 132ms/step - loss: 0.0016\n",
      "Epoch 59/100\n",
      "38/38 [==============================] - 6s 149ms/step - loss: 0.0015\n",
      "Epoch 60/100\n",
      "38/38 [==============================] - 5s 134ms/step - loss: 0.0015\n",
      "Epoch 61/100\n",
      "38/38 [==============================] - 5s 124ms/step - loss: 0.0014\n",
      "Epoch 62/100\n",
      "38/38 [==============================] - 5s 124ms/step - loss: 0.0014\n",
      "Epoch 63/100\n",
      "38/38 [==============================] - 5s 135ms/step - loss: 0.0012\n",
      "Epoch 64/100\n",
      "38/38 [==============================] - 5s 129ms/step - loss: 0.0014\n",
      "Epoch 65/100\n",
      "38/38 [==============================] - 5s 120ms/step - loss: 0.0014\n",
      "Epoch 66/100\n",
      "38/38 [==============================] - 5s 128ms/step - loss: 0.0013\n",
      "Epoch 67/100\n",
      "38/38 [==============================] - 5s 127ms/step - loss: 0.0013\n",
      "Epoch 68/100\n",
      "38/38 [==============================] - 5s 122ms/step - loss: 0.0014\n",
      "Epoch 69/100\n",
      "38/38 [==============================] - 5s 121ms/step - loss: 0.0013\n",
      "Epoch 70/100\n",
      "38/38 [==============================] - 5s 130ms/step - loss: 0.0014\n",
      "Epoch 71/100\n",
      "38/38 [==============================] - 5s 134ms/step - loss: 0.0013\n",
      "Epoch 72/100\n",
      "38/38 [==============================] - 5s 128ms/step - loss: 0.0012\n",
      "Epoch 73/100\n",
      "38/38 [==============================] - 5s 129ms/step - loss: 0.0014\n",
      "Epoch 74/100\n",
      "38/38 [==============================] - 6s 146ms/step - loss: 0.0012\n",
      "Epoch 75/100\n",
      "38/38 [==============================] - 5s 131ms/step - loss: 0.0011\n",
      "Epoch 76/100\n",
      "38/38 [==============================] - 5s 137ms/step - loss: 0.0013\n",
      "Epoch 77/100\n",
      "38/38 [==============================] - 5s 124ms/step - loss: 0.0012\n",
      "Epoch 78/100\n",
      "38/38 [==============================] - 5s 124ms/step - loss: 0.0014\n",
      "Epoch 79/100\n",
      "38/38 [==============================] - 5s 128ms/step - loss: 0.0011\n",
      "Epoch 80/100\n",
      "38/38 [==============================] - 6s 153ms/step - loss: 0.0012\n",
      "Epoch 81/100\n",
      "38/38 [==============================] - 6s 163ms/step - loss: 0.0013\n",
      "Epoch 82/100\n",
      "38/38 [==============================] - 5s 130ms/step - loss: 0.0012\n",
      "Epoch 83/100\n",
      "38/38 [==============================] - 5s 139ms/step - loss: 0.0013\n",
      "Epoch 84/100\n",
      "38/38 [==============================] - 5s 134ms/step - loss: 0.0012\n",
      "Epoch 85/100\n",
      "38/38 [==============================] - 5s 125ms/step - loss: 0.0010\n",
      "Epoch 86/100\n",
      "38/38 [==============================] - 5s 135ms/step - loss: 0.0011\n",
      "Epoch 87/100\n",
      "38/38 [==============================] - 5s 137ms/step - loss: 0.0010\n",
      "Epoch 88/100\n",
      "38/38 [==============================] - 5s 125ms/step - loss: 0.0010\n",
      "Epoch 89/100\n",
      "38/38 [==============================] - 5s 140ms/step - loss: 0.0012\n",
      "Epoch 90/100\n",
      "38/38 [==============================] - 5s 143ms/step - loss: 9.6722e-04\n",
      "Epoch 91/100\n",
      "38/38 [==============================] - 5s 129ms/step - loss: 0.0010\n",
      "Epoch 92/100\n",
      "38/38 [==============================] - 5s 135ms/step - loss: 9.8048e-04\n",
      "Epoch 93/100\n",
      "38/38 [==============================] - 5s 126ms/step - loss: 0.0012\n",
      "Epoch 94/100\n",
      "38/38 [==============================] - 5s 130ms/step - loss: 0.0011\n",
      "Epoch 95/100\n",
      "38/38 [==============================] - 5s 125ms/step - loss: 9.2358e-04\n",
      "Epoch 96/100\n",
      "38/38 [==============================] - 5s 126ms/step - loss: 0.0010\n",
      "Epoch 97/100\n",
      "38/38 [==============================] - 5s 143ms/step - loss: 0.0011\n",
      "Epoch 98/100\n",
      "38/38 [==============================] - 6s 147ms/step - loss: 0.0011\n",
      "Epoch 99/100\n"
     ]
    },
    {
     "name": "stdout",
     "output_type": "stream",
     "text": [
      "38/38 [==============================] - 5s 127ms/step - loss: 0.0012\n",
      "Epoch 100/100\n",
      "38/38 [==============================] - 5s 121ms/step - loss: 0.0010\n"
     ]
    },
    {
     "data": {
      "text/plain": [
       "<keras.src.callbacks.History at 0x187bd2f1d30>"
      ]
     },
     "execution_count": 18,
     "metadata": {},
     "output_type": "execute_result"
    }
   ],
   "source": [
    "regressor.fit(x_train,y_train,epochs = 100, batch_size = 32)"
   ]
  },
  {
   "cell_type": "code",
   "execution_count": 19,
   "metadata": {
    "executionInfo": {
     "elapsed": 45,
     "status": "ok",
     "timestamp": 1682516353325,
     "user": {
      "displayName": "Aryan Pawar",
      "userId": "00492405077873426637"
     },
     "user_tz": -330
    },
    "id": "5TKjaLSB76VT"
   },
   "outputs": [],
   "source": [
    "real_stock_price = df_test.iloc[:,1:2].values"
   ]
  },
  {
   "cell_type": "code",
   "execution_count": 20,
   "metadata": {
    "colab": {
     "base_uri": "https://localhost:8080/"
    },
    "executionInfo": {
     "elapsed": 31,
     "status": "ok",
     "timestamp": 1682516353325,
     "user": {
      "displayName": "Aryan Pawar",
      "userId": "00492405077873426637"
     },
     "user_tz": -330
    },
    "id": "VryLw-537-LM",
    "outputId": "092b029c-f519-4c08-ac97-113e36be162d"
   },
   "outputs": [
    {
     "data": {
      "text/plain": [
       "0       357.385559\n",
       "1       360.122742\n",
       "2       362.313507\n",
       "3       365.348755\n",
       "4       365.393463\n",
       "          ...     \n",
       "120    1143.599976\n",
       "121    1128.000000\n",
       "122    1121.339966\n",
       "123    1102.089966\n",
       "124    1120.000000\n",
       "Name: Open, Length: 1384, dtype: float64"
      ]
     },
     "execution_count": 20,
     "metadata": {},
     "output_type": "execute_result"
    }
   ],
   "source": [
    "dataset_total = pd.concat((df_train['Open'],df_test['Open']),axis = 0)\n",
    "dataset_total"
   ]
  },
  {
   "cell_type": "code",
   "execution_count": 22,
   "metadata": {
    "colab": {
     "base_uri": "https://localhost:8080/"
    },
    "executionInfo": {
     "elapsed": 29,
     "status": "ok",
     "timestamp": 1682516353326,
     "user": {
      "displayName": "Aryan Pawar",
      "userId": "00492405077873426637"
     },
     "user_tz": -330
    },
    "id": "1FbzJHYw8BHB",
    "outputId": "4b54811c-b5b4-44ae-8c38-9f4715c1329f"
   },
   "outputs": [
    {
     "data": {
      "text/plain": [
       "array([ 955.48999 ,  966.700012,  980.      ,  980.      ,  973.719971,\n",
       "        987.450012,  992.      ,  992.099976,  990.289978,  991.77002 ,\n",
       "        986.      ,  989.440002,  989.52002 ,  970.      ,  968.369995,\n",
       "        980.      , 1009.190002, 1014.      , 1015.219971, 1017.210022,\n",
       "       1021.76001 , 1022.109985, 1028.98999 , 1027.27002 , 1030.52002 ,\n",
       "       1033.98999 , 1026.459961, 1023.419983, 1022.590027, 1019.210022,\n",
       "       1022.52002 , 1034.01001 , 1020.26001 , 1023.309998, 1035.      ,\n",
       "       1035.869995, 1040.      , 1055.089966, 1042.680054, 1022.369995,\n",
       "       1015.799988, 1012.659973,  995.940002, 1001.5     , 1020.429993,\n",
       "       1037.48999 , 1035.5     , 1039.630005, 1046.119995, 1045.      ,\n",
       "       1054.609985, 1066.079956, 1075.199951, 1071.780029, 1064.949951,\n",
       "       1061.109985, 1058.069946, 1057.390015, 1051.599976, 1046.719971,\n",
       "       1048.339966, 1064.310059, 1088.      , 1094.      , 1102.22998 ,\n",
       "       1109.400024, 1097.099976, 1106.300049, 1102.410034, 1132.51001 ,\n",
       "       1126.219971, 1131.410034, 1131.829956, 1137.48999 , 1159.849976,\n",
       "       1177.329956, 1172.530029, 1175.079956, 1176.47998 , 1167.829956,\n",
       "       1170.569946, 1162.609985, 1122.      , 1090.599976, 1027.180054,\n",
       "       1081.540039, 1055.410034, 1017.25    , 1048.      , 1045.      ,\n",
       "       1048.949951, 1079.069946, 1088.410034, 1090.569946, 1106.469971,\n",
       "       1116.189941, 1112.640015, 1127.800049, 1141.23999 , 1123.030029,\n",
       "       1107.869995, 1053.079956, 1075.140015, 1099.219971, 1089.189941,\n",
       "       1115.319946, 1136.      , 1163.849976, 1170.      , 1145.209961,\n",
       "       1149.959961, 1154.140015, 1120.01001 , 1099.      , 1092.73999 ,\n",
       "       1081.880005, 1047.030029, 1046.      , 1063.      ,  998.      ,\n",
       "       1011.630005, 1022.820007, 1013.909973,  993.409973, 1041.329956,\n",
       "       1020.      , 1016.799988, 1026.439941, 1027.98999 , 1025.040039,\n",
       "       1040.880005, 1037.      , 1051.369995, 1077.430054, 1069.400024,\n",
       "       1082.      , 1077.859985, 1052.      , 1025.52002 , 1029.51001 ,\n",
       "       1046.      , 1030.01001 , 1013.659973, 1028.099976, 1019.      ,\n",
       "       1016.900024, 1049.22998 , 1058.540039, 1058.099976, 1086.030029,\n",
       "       1093.599976, 1100.      , 1090.      , 1077.310059, 1079.890015,\n",
       "       1061.859985, 1074.060059, 1083.560059, 1065.130005, 1079.      ,\n",
       "       1079.02002 , 1064.890015, 1063.030029, 1067.560059, 1099.349976,\n",
       "       1122.329956, 1140.98999 , 1142.170044, 1131.319946, 1118.180054,\n",
       "       1118.599976, 1131.069946, 1141.119995, 1143.849976, 1148.859985,\n",
       "       1143.650024, 1158.5     , 1175.310059, 1174.849976, 1159.140015,\n",
       "       1143.599976, 1128.      , 1121.339966, 1102.089966, 1120.      ])"
      ]
     },
     "execution_count": 22,
     "metadata": {},
     "output_type": "execute_result"
    }
   ],
   "source": [
    "inputs = dataset_total[len(dataset_total) - len(df_test)-60:].values\n",
    "inputs"
   ]
  },
  {
   "cell_type": "code",
   "execution_count": 23,
   "metadata": {
    "colab": {
     "base_uri": "https://localhost:8080/"
    },
    "executionInfo": {
     "elapsed": 25,
     "status": "ok",
     "timestamp": 1682516353326,
     "user": {
      "displayName": "Aryan Pawar",
      "userId": "00492405077873426637"
     },
     "user_tz": -330
    },
    "id": "YJV3Ll358DpI",
    "outputId": "550a68ea-f313-44a0-84ae-8696f948c9dc"
   },
   "outputs": [
    {
     "data": {
      "text/plain": [
       "array([[ 955.48999 ],\n",
       "       [ 966.700012],\n",
       "       [ 980.      ],\n",
       "       [ 980.      ],\n",
       "       [ 973.719971],\n",
       "       [ 987.450012],\n",
       "       [ 992.      ],\n",
       "       [ 992.099976],\n",
       "       [ 990.289978],\n",
       "       [ 991.77002 ],\n",
       "       [ 986.      ],\n",
       "       [ 989.440002],\n",
       "       [ 989.52002 ],\n",
       "       [ 970.      ],\n",
       "       [ 968.369995],\n",
       "       [ 980.      ],\n",
       "       [1009.190002],\n",
       "       [1014.      ],\n",
       "       [1015.219971],\n",
       "       [1017.210022],\n",
       "       [1021.76001 ],\n",
       "       [1022.109985],\n",
       "       [1028.98999 ],\n",
       "       [1027.27002 ],\n",
       "       [1030.52002 ],\n",
       "       [1033.98999 ],\n",
       "       [1026.459961],\n",
       "       [1023.419983],\n",
       "       [1022.590027],\n",
       "       [1019.210022],\n",
       "       [1022.52002 ],\n",
       "       [1034.01001 ],\n",
       "       [1020.26001 ],\n",
       "       [1023.309998],\n",
       "       [1035.      ],\n",
       "       [1035.869995],\n",
       "       [1040.      ],\n",
       "       [1055.089966],\n",
       "       [1042.680054],\n",
       "       [1022.369995],\n",
       "       [1015.799988],\n",
       "       [1012.659973],\n",
       "       [ 995.940002],\n",
       "       [1001.5     ],\n",
       "       [1020.429993],\n",
       "       [1037.48999 ],\n",
       "       [1035.5     ],\n",
       "       [1039.630005],\n",
       "       [1046.119995],\n",
       "       [1045.      ],\n",
       "       [1054.609985],\n",
       "       [1066.079956],\n",
       "       [1075.199951],\n",
       "       [1071.780029],\n",
       "       [1064.949951],\n",
       "       [1061.109985],\n",
       "       [1058.069946],\n",
       "       [1057.390015],\n",
       "       [1051.599976],\n",
       "       [1046.719971],\n",
       "       [1048.339966],\n",
       "       [1064.310059],\n",
       "       [1088.      ],\n",
       "       [1094.      ],\n",
       "       [1102.22998 ],\n",
       "       [1109.400024],\n",
       "       [1097.099976],\n",
       "       [1106.300049],\n",
       "       [1102.410034],\n",
       "       [1132.51001 ],\n",
       "       [1126.219971],\n",
       "       [1131.410034],\n",
       "       [1131.829956],\n",
       "       [1137.48999 ],\n",
       "       [1159.849976],\n",
       "       [1177.329956],\n",
       "       [1172.530029],\n",
       "       [1175.079956],\n",
       "       [1176.47998 ],\n",
       "       [1167.829956],\n",
       "       [1170.569946],\n",
       "       [1162.609985],\n",
       "       [1122.      ],\n",
       "       [1090.599976],\n",
       "       [1027.180054],\n",
       "       [1081.540039],\n",
       "       [1055.410034],\n",
       "       [1017.25    ],\n",
       "       [1048.      ],\n",
       "       [1045.      ],\n",
       "       [1048.949951],\n",
       "       [1079.069946],\n",
       "       [1088.410034],\n",
       "       [1090.569946],\n",
       "       [1106.469971],\n",
       "       [1116.189941],\n",
       "       [1112.640015],\n",
       "       [1127.800049],\n",
       "       [1141.23999 ],\n",
       "       [1123.030029],\n",
       "       [1107.869995],\n",
       "       [1053.079956],\n",
       "       [1075.140015],\n",
       "       [1099.219971],\n",
       "       [1089.189941],\n",
       "       [1115.319946],\n",
       "       [1136.      ],\n",
       "       [1163.849976],\n",
       "       [1170.      ],\n",
       "       [1145.209961],\n",
       "       [1149.959961],\n",
       "       [1154.140015],\n",
       "       [1120.01001 ],\n",
       "       [1099.      ],\n",
       "       [1092.73999 ],\n",
       "       [1081.880005],\n",
       "       [1047.030029],\n",
       "       [1046.      ],\n",
       "       [1063.      ],\n",
       "       [ 998.      ],\n",
       "       [1011.630005],\n",
       "       [1022.820007],\n",
       "       [1013.909973],\n",
       "       [ 993.409973],\n",
       "       [1041.329956],\n",
       "       [1020.      ],\n",
       "       [1016.799988],\n",
       "       [1026.439941],\n",
       "       [1027.98999 ],\n",
       "       [1025.040039],\n",
       "       [1040.880005],\n",
       "       [1037.      ],\n",
       "       [1051.369995],\n",
       "       [1077.430054],\n",
       "       [1069.400024],\n",
       "       [1082.      ],\n",
       "       [1077.859985],\n",
       "       [1052.      ],\n",
       "       [1025.52002 ],\n",
       "       [1029.51001 ],\n",
       "       [1046.      ],\n",
       "       [1030.01001 ],\n",
       "       [1013.659973],\n",
       "       [1028.099976],\n",
       "       [1019.      ],\n",
       "       [1016.900024],\n",
       "       [1049.22998 ],\n",
       "       [1058.540039],\n",
       "       [1058.099976],\n",
       "       [1086.030029],\n",
       "       [1093.599976],\n",
       "       [1100.      ],\n",
       "       [1090.      ],\n",
       "       [1077.310059],\n",
       "       [1079.890015],\n",
       "       [1061.859985],\n",
       "       [1074.060059],\n",
       "       [1083.560059],\n",
       "       [1065.130005],\n",
       "       [1079.      ],\n",
       "       [1079.02002 ],\n",
       "       [1064.890015],\n",
       "       [1063.030029],\n",
       "       [1067.560059],\n",
       "       [1099.349976],\n",
       "       [1122.329956],\n",
       "       [1140.98999 ],\n",
       "       [1142.170044],\n",
       "       [1131.319946],\n",
       "       [1118.180054],\n",
       "       [1118.599976],\n",
       "       [1131.069946],\n",
       "       [1141.119995],\n",
       "       [1143.849976],\n",
       "       [1148.859985],\n",
       "       [1143.650024],\n",
       "       [1158.5     ],\n",
       "       [1175.310059],\n",
       "       [1174.849976],\n",
       "       [1159.140015],\n",
       "       [1143.599976],\n",
       "       [1128.      ],\n",
       "       [1121.339966],\n",
       "       [1102.089966],\n",
       "       [1120.      ]])"
      ]
     },
     "execution_count": 23,
     "metadata": {},
     "output_type": "execute_result"
    }
   ],
   "source": [
    "inputs = inputs.reshape(-1,1)\n",
    "inputs"
   ]
  },
  {
   "cell_type": "code",
   "execution_count": 24,
   "metadata": {
    "colab": {
     "base_uri": "https://localhost:8080/"
    },
    "executionInfo": {
     "elapsed": 22,
     "status": "ok",
     "timestamp": 1682516353327,
     "user": {
      "displayName": "Aryan Pawar",
      "userId": "00492405077873426637"
     },
     "user_tz": -330
    },
    "id": "LAzMZkYL8IOZ",
    "outputId": "1798ff8a-0fd4-4563-ae8c-befbc262c88c"
   },
   "outputs": [
    {
     "data": {
      "text/plain": [
       "(185, 1)"
      ]
     },
     "execution_count": 24,
     "metadata": {},
     "output_type": "execute_result"
    }
   ],
   "source": [
    "inputs = sc.transform(inputs)\n",
    "inputs.shape"
   ]
  },
  {
   "cell_type": "code",
   "execution_count": 25,
   "metadata": {
    "executionInfo": {
     "elapsed": 15,
     "status": "ok",
     "timestamp": 1682516353327,
     "user": {
      "displayName": "Aryan Pawar",
      "userId": "00492405077873426637"
     },
     "user_tz": -330
    },
    "id": "VDxpgxCh8KDK"
   },
   "outputs": [],
   "source": [
    "x_test = []\n",
    "for i in range(60,185):\n",
    "    x_test.append(inputs[i-60:i,0])"
   ]
  },
  {
   "cell_type": "code",
   "execution_count": 26,
   "metadata": {
    "colab": {
     "base_uri": "https://localhost:8080/"
    },
    "executionInfo": {
     "elapsed": 14,
     "status": "ok",
     "timestamp": 1682516353327,
     "user": {
      "displayName": "Aryan Pawar",
      "userId": "00492405077873426637"
     },
     "user_tz": -330
    },
    "id": "34rS-iZr8LaX",
    "outputId": "8d697a19-ce4c-47ac-fbd2-cdc64d29e5d1"
   },
   "outputs": [
    {
     "data": {
      "text/plain": [
       "(125, 60)"
      ]
     },
     "execution_count": 26,
     "metadata": {},
     "output_type": "execute_result"
    }
   ],
   "source": [
    "x_test = np.array(x_test)\n",
    "x_test.shape"
   ]
  },
  {
   "cell_type": "code",
   "execution_count": 27,
   "metadata": {
    "colab": {
     "base_uri": "https://localhost:8080/"
    },
    "executionInfo": {
     "elapsed": 13,
     "status": "ok",
     "timestamp": 1682516353328,
     "user": {
      "displayName": "Aryan Pawar",
      "userId": "00492405077873426637"
     },
     "user_tz": -330
    },
    "id": "_Nzq2REF8Nan",
    "outputId": "f4133e30-d189-4ee2-b60c-4ef1ccd7c24e"
   },
   "outputs": [
    {
     "data": {
      "text/plain": [
       "(125, 60, 1)"
      ]
     },
     "execution_count": 27,
     "metadata": {},
     "output_type": "execute_result"
    }
   ],
   "source": [
    "x_test = np.reshape(x_test, (x_test.shape[0],x_test.shape[1],1))\n",
    "x_test.shape"
   ]
  },
  {
   "cell_type": "code",
   "execution_count": 28,
   "metadata": {
    "colab": {
     "base_uri": "https://localhost:8080/"
    },
    "executionInfo": {
     "elapsed": 890,
     "status": "ok",
     "timestamp": 1682516354208,
     "user": {
      "displayName": "Aryan Pawar",
      "userId": "00492405077873426637"
     },
     "user_tz": -330
    },
    "id": "o7ECtEJR8QzH",
    "outputId": "61a06baa-1477-4eb1-f6be-a77111e97942"
   },
   "outputs": [
    {
     "name": "stdout",
     "output_type": "stream",
     "text": [
      "4/4 [==============================] - 2s 42ms/step\n"
     ]
    }
   ],
   "source": [
    "predicted_price = regressor.predict(x_test)"
   ]
  },
  {
   "cell_type": "code",
   "execution_count": 29,
   "metadata": {
    "colab": {
     "base_uri": "https://localhost:8080/"
    },
    "executionInfo": {
     "elapsed": 9,
     "status": "ok",
     "timestamp": 1682516354209,
     "user": {
      "displayName": "Aryan Pawar",
      "userId": "00492405077873426637"
     },
     "user_tz": -330
    },
    "id": "mbMop76b8SQZ",
    "outputId": "ddca3285-6a9c-4294-f411-0edfeb34fde8"
   },
   "outputs": [
    {
     "data": {
      "text/plain": [
       "array([[1033.504  ],\n",
       "       [1032.5227 ],\n",
       "       [1035.3357 ],\n",
       "       [1044.204  ],\n",
       "       [1054.3976 ],\n",
       "       [1062.66   ],\n",
       "       [1068.3917 ],\n",
       "       [1068.9044 ],\n",
       "       [1068.8744 ],\n",
       "       [1069.0953 ],\n",
       "       [1076.0869 ],\n",
       "       [1083.9142 ],\n",
       "       [1090.0621 ],\n",
       "       [1093.5215 ],\n",
       "       [1096.1147 ],\n",
       "       [1102.6927 ],\n",
       "       [1113.4333 ],\n",
       "       [1121.7336 ],\n",
       "       [1126.2992 ],\n",
       "       [1128.4172 ],\n",
       "       [1127.9141 ],\n",
       "       [1127.6906 ],\n",
       "       [1127.0204 ],\n",
       "       [1118.804  ],\n",
       "       [1103.3712 ],\n",
       "       [1077.7728 ],\n",
       "       [1064.6355 ],\n",
       "       [1059.7158 ],\n",
       "       [1051.2074 ],\n",
       "       [1046.1802 ],\n",
       "       [1043.776  ],\n",
       "       [1042.8011 ],\n",
       "       [1047.3822 ],\n",
       "       [1054.763  ],\n",
       "       [1060.3849 ],\n",
       "       [1065.5399 ],\n",
       "       [1071.0227 ],\n",
       "       [1074.6387 ],\n",
       "       [1079.4926 ],\n",
       "       [1087.1144 ],\n",
       "       [1090.7279 ],\n",
       "       [1088.2054 ],\n",
       "       [1073.6211 ],\n",
       "       [1062.0538 ],\n",
       "       [1062.9115 ],\n",
       "       [1068.8711 ],\n",
       "       [1078.7867 ],\n",
       "       [1090.6578 ],\n",
       "       [1104.3469 ],\n",
       "       [1115.2297 ],\n",
       "       [1115.8802 ],\n",
       "       [1112.5399 ],\n",
       "       [1110.9598 ],\n",
       "       [1105.5463 ],\n",
       "       [1096.0267 ],\n",
       "       [1086.788  ],\n",
       "       [1079.2651 ],\n",
       "       [1068.2716 ],\n",
       "       [1057.5911 ],\n",
       "       [1053.5288 ],\n",
       "       [1041.708  ],\n",
       "       [1028.972  ],\n",
       "       [1021.94507],\n",
       "       [1018.3812 ],\n",
       "       [1012.1833 ],\n",
       "       [1013.73553],\n",
       "       [1015.5457 ],\n",
       "       [1014.2326 ],\n",
       "       [1012.64197],\n",
       "       [1011.99225],\n",
       "       [1011.508  ],\n",
       "       [1014.18256],\n",
       "       [1017.3378 ],\n",
       "       [1022.189  ],\n",
       "       [1031.8751 ],\n",
       "       [1039.8455 ],\n",
       "       [1046.2162 ],\n",
       "       [1049.45   ],\n",
       "       [1045.4445 ],\n",
       "       [1034.1661 ],\n",
       "       [1024.1362 ],\n",
       "       [1022.7337 ],\n",
       "       [1024.0621 ],\n",
       "       [1021.7455 ],\n",
       "       [1019.753  ],\n",
       "       [1017.1007 ],\n",
       "       [1013.95233],\n",
       "       [1017.5022 ],\n",
       "       [1025.8916 ],\n",
       "       [1033.0697 ],\n",
       "       [1041.7665 ],\n",
       "       [1050.3597 ],\n",
       "       [1057.3958 ],\n",
       "       [1059.6627 ],\n",
       "       [1056.6853 ],\n",
       "       [1053.4083 ],\n",
       "       [1048.8866 ],\n",
       "       [1047.9576 ],\n",
       "       [1051.9069 ],\n",
       "       [1053.445  ],\n",
       "       [1054.9242 ],\n",
       "       [1056.1995 ],\n",
       "       [1054.1277 ],\n",
       "       [1050.26   ],\n",
       "       [1047.868  ],\n",
       "       [1053.7078 ],\n",
       "       [1067.0208 ],\n",
       "       [1082.7118 ],\n",
       "       [1093.5726 ],\n",
       "       [1095.8208 ],\n",
       "       [1091.1299 ],\n",
       "       [1086.0575 ],\n",
       "       [1086.6947 ],\n",
       "       [1093.1973 ],\n",
       "       [1101.0133 ],\n",
       "       [1107.33   ],\n",
       "       [1109.6638 ],\n",
       "       [1112.4313 ],\n",
       "       [1118.7383 ],\n",
       "       [1125.0896 ],\n",
       "       [1126.0803 ],\n",
       "       [1121.1349 ],\n",
       "       [1112.599  ],\n",
       "       [1104.6863 ],\n",
       "       [1096.6722 ]], dtype=float32)"
      ]
     },
     "execution_count": 29,
     "metadata": {},
     "output_type": "execute_result"
    }
   ],
   "source": [
    "predicted_price = sc.inverse_transform(predicted_price)\n",
    "predicted_price"
   ]
  },
  {
   "cell_type": "code",
   "execution_count": 30,
   "metadata": {
    "colab": {
     "base_uri": "https://localhost:8080/",
     "height": 472
    },
    "executionInfo": {
     "elapsed": 1385,
     "status": "ok",
     "timestamp": 1682516355589,
     "user": {
      "displayName": "Aryan Pawar",
      "userId": "00492405077873426637"
     },
     "user_tz": -330
    },
    "id": "iuDdXjZ88U3p",
    "outputId": "fde817f4-fd32-4841-bda3-90ddde781031"
   },
   "outputs": [
    {
     "data": {
      "image/png": "[encoded data removed]",
      "text/plain": [
       "<Figure size 640x480 with 1 Axes>"
      ]
     },
     "metadata": {},
     "output_type": "display_data"
    }
   ],
   "source": [
    "plt.plot(real_stock_price,color = 'red', label = 'Real Price')\n",
    "plt.plot(predicted_price, color = 'blue', label = 'Predicted Price')\n",
    "plt.title('Google Stock Price Prediction')\n",
    "plt.xlabel('Time')\n",
    "plt.ylabel('Google Stock Price')\n",
    "plt.legend()\n",
    "plt.show()"
   ]
  },
  {
   "cell_type": "code",
   "execution_count": null,
   "metadata": {},
   "outputs": [],
   "source": []
  }
 ],
 "metadata": {
  "colab": {
   "provenance": []
  },
  "kernelspec": {
   "display_name": "MLkernel1",
   "language": "python",
   "name": "mlkernel1"
  },
  "language_info": {
   "codemirror_mode": {
    "name": "ipython",
    "version": 3
   },
   "file_extension": ".py",
   "mimetype": "text/x-python",
   "name": "python",
   "nbconvert_exporter": "python",
   "pygments_lexer": "ipython3",
   "version": "3.8.6"
  }
 },
 "nbformat": 4,
 "nbformat_minor": 1
}
